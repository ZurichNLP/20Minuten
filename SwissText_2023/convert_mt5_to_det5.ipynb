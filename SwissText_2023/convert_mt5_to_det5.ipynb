{
 "cells": [
  {
   "cell_type": "code",
   "execution_count": 2,
   "metadata": {},
   "outputs": [
    {
     "name": "stdout",
     "output_type": "stream",
     "text": [
      "wget: /sapps/opt/spack/linux-ubuntu16.04-x86_64/gcc-7.4.0/anaconda3-2020.11-q5jxtdwawrttqetvc2734tjx7v55v55y/lib/libuuid.so.1: no version information available (required by wget)\n",
      "--2022-03-29 08:46:56--  https://raw.githubusercontent.com/google/sentencepiece/master/src/sentencepiece_model.proto\n",
      "Resolving raw.githubusercontent.com (raw.githubusercontent.com)... 185.199.111.133, 185.199.108.133, 185.199.110.133, ...\n",
      "Connecting to raw.githubusercontent.com (raw.githubusercontent.com)|185.199.111.133|:443... connected.\n",
      "HTTP request sent, awaiting response... 200 OK\n",
      "Length: 12872 (13K) [text/plain]\n",
      "Saving to: ‘sentencepiece_model.proto’\n",
      "\n",
      "sentencepiece_model 100%[===================>]  12.57K  --.-KB/s    in 0s      \n",
      "\n",
      "2022-03-29 08:46:56 (69.4 MB/s) - ‘sentencepiece_model.proto’ saved [12872/12872]\n",
      "\n"
     ]
    }
   ],
   "source": [
    "! wget https://raw.githubusercontent.com/google/sentencepiece/master/src/sentencepiece_model.proto\n",
    "! protoc --python_out=. sentencepiece_model.proto"
   ]
  },
  {
   "cell_type": "code",
   "execution_count": 7,
   "metadata": {},
   "outputs": [],
   "source": [
    "from transformers import MT5ForConditionalGeneration, MT5Tokenizer, T5ForConditionalGeneration, T5Tokenizer\n",
    "import torch\n",
    "import pandas as pd\n",
    "pd.options.display.max_colwidth = 300\n",
    "import csv\n",
    "from collections import Counter\n",
    "from tqdm.auto import tqdm, trange\n",
    "import matplotlib.pyplot as plt\n",
    "\n",
    "from pathlib import Path\n",
    "import sentencepiece_model_pb2 as spmp"
   ]
  },
  {
   "cell_type": "code",
   "execution_count": 8,
   "metadata": {},
   "outputs": [],
   "source": [
    "model_name = \"google/mt5-base\"\n",
    "save_model_name = 'det5-base'\n",
    "save_dir = Path('models')\n",
    "\n",
    "tokenizer = MT5Tokenizer.from_pretrained(model_name)\n",
    "model = MT5ForConditionalGeneration.from_pretrained(model_name)\n",
    "\n",
    "# update local paths if necessary\n",
    "de_sents = 'data/newscrawl/deu_newscrawl-public_2019_1M/deu_newscrawl-public_2019_1M-sentences.txt'\n",
    "en_sents = 'data/newscrawl/eng_newscrawl-public_2018_1M/eng_newscrawl-public_2018_1M-sentences.txt'"
   ]
  },
  {
   "cell_type": "code",
   "execution_count": 9,
   "metadata": {},
   "outputs": [],
   "source": [
    "def sanity_check(model, tokenizer):\n",
    "    inputs = tokenizer('Der <extra_id_0> geht  <extra_id_1> Park.', return_tensors='pt')\n",
    "    with torch.no_grad():\n",
    "        hypotheses = model.generate(\n",
    "            **inputs, \n",
    "            do_sample=False, \n",
    "            num_beams=3,\n",
    "            num_return_sequences=3,\n",
    "            max_length=32,\n",
    "        )\n",
    "    for h in hypotheses:\n",
    "        print(tokenizer.decode(h))\n",
    "    return"
   ]
  },
  {
   "cell_type": "code",
   "execution_count": 10,
   "metadata": {},
   "outputs": [
    {
     "name": "stdout",
     "output_type": "stream",
     "text": [
      "<pad> <extra_id_0> Park <extra_id_1> in den <extra_id_2> in den <extra_id_3> liegt <extra_id_4> in den <extra_id_5> neue <extra_id_6> in den <extra_id_7> neue <extra_id_8> in den <extra_id_9> neue Park <extra_id_10>\n",
      "<pad> <extra_id_0> Park <extra_id_1> in den <extra_id_2> in den <extra_id_3> liegt <extra_id_4> in den <extra_id_5> neue <extra_id_6> in den <extra_id_7> neuer <extra_id_8> in den <extra_id_9> neuer <extra_id_10> in\n",
      "<pad> <extra_id_0> Park <extra_id_1> in den <extra_id_2> in den <extra_id_3> liegt <extra_id_4> in den <extra_id_5> neue <extra_id_6> in den <extra_id_7> neue <extra_id_8> in den <extra_id_9> neue <extra_id_10> in\n"
     ]
    }
   ],
   "source": [
    "sanity_check(model, tokenizer)"
   ]
  },
  {
   "cell_type": "code",
   "execution_count": 11,
   "metadata": {},
   "outputs": [
    {
     "name": "stdout",
     "output_type": "stream",
     "text": [
      "250100\n"
     ]
    }
   ],
   "source": [
    "print(tokenizer.vocab_size)"
   ]
  },
  {
   "cell_type": "code",
   "execution_count": 12,
   "metadata": {},
   "outputs": [
    {
     "name": "stdout",
     "output_type": "stream",
     "text": [
      "582401280\n",
      "192086016\n",
      "------\n",
      "encoder\n",
      "277040256\n",
      "84953472\n",
      "------\n",
      "decoder\n",
      "305361024\n",
      "113274240\n",
      "192086016\n"
     ]
    }
   ],
   "source": [
    "\n",
    "\n",
    "def msize(m):\n",
    "    return sum(p.numel() for p in m.parameters())\n",
    "\n",
    "original_size = msize(model)\n",
    "print(msize(model))\n",
    "print(msize(model.shared))\n",
    "print(\"------\")\n",
    "print('encoder')\n",
    "print(msize(model.encoder))\n",
    "print(msize(model.encoder.block))\n",
    "print(\"------\")\n",
    "print('decoder')\n",
    "print(msize(model.decoder))\n",
    "print(msize(model.decoder.block))\n",
    "print(msize(model.lm_head))\n",
    "\n"
   ]
  },
  {
   "cell_type": "code",
   "execution_count": 14,
   "metadata": {},
   "outputs": [
    {
     "name": "stdout",
     "output_type": "stream",
     "text": [
      "0.32981729710484153\n",
      "0.32981729710484153\n"
     ]
    }
   ],
   "source": [
    "\n",
    "\n",
    "print(msize(model.shared) / msize(model))\n",
    "print(msize(model.lm_head) / msize(model))\n",
    "\n"
   ]
  },
  {
   "cell_type": "code",
   "execution_count": 15,
   "metadata": {},
   "outputs": [
    {
     "name": "stdout",
     "output_type": "stream",
     "text": [
      "1000000\n"
     ]
    },
    {
     "data": {
      "text/html": [
       "<div>\n",
       "<style scoped>\n",
       "    .dataframe tbody tr th:only-of-type {\n",
       "        vertical-align: middle;\n",
       "    }\n",
       "\n",
       "    .dataframe tbody tr th {\n",
       "        vertical-align: top;\n",
       "    }\n",
       "\n",
       "    .dataframe thead th {\n",
       "        text-align: right;\n",
       "    }\n",
       "</style>\n",
       "<table border=\"1\" class=\"dataframe\">\n",
       "  <thead>\n",
       "    <tr style=\"text-align: right;\">\n",
       "      <th></th>\n",
       "      <th>idx</th>\n",
       "      <th>text</th>\n",
       "    </tr>\n",
       "  </thead>\n",
       "  <tbody>\n",
       "    <tr>\n",
       "      <th>486757</th>\n",
       "      <td>486758</td>\n",
       "      <td>\"Es ist eine Frechheit, als Letzte von der Maßnahme zu erfahren, welche die Schule erheblich betrifft\", sagte Schulsprecherin Doreen Kreil.</td>\n",
       "    </tr>\n",
       "    <tr>\n",
       "      <th>10034</th>\n",
       "      <td>10035</td>\n",
       "      <td>Aber was ich zumindest erstaunlich finde, ist, dass diese Frau Leimbach-Knorr, die ja wirklich nur eine kleine Rolle ist, so bei den Kindern bei den Jugendlichen eingeschlagen hat.</td>\n",
       "    </tr>\n",
       "    <tr>\n",
       "      <th>199138</th>\n",
       "      <td>199139</td>\n",
       "      <td>Dass sich Versicherungsvertreter und Richter auf die Detektiv-Aussagen stützen, sei stossend.</td>\n",
       "    </tr>\n",
       "    <tr>\n",
       "      <th>797021</th>\n",
       "      <td>797022</td>\n",
       "      <td>Seit einigen Tagen gab es das Gerücht, jetzt ist es amtlich: Viktoria Kelsterbach wird seine Erste Mannschaft am Ende der Saison aus der Fußball-Verbandsliga zurückziehen.</td>\n",
       "    </tr>\n",
       "    <tr>\n",
       "      <th>970326</th>\n",
       "      <td>970327</td>\n",
       "      <td>\"Wir werden sicherlich keinen Ausflug nach Rückers machen, sondern alles daran setzen, Punkte mit in den Vogelsberg zu bringen\", so Glitsch abschließend.</td>\n",
       "    </tr>\n",
       "  </tbody>\n",
       "</table>\n",
       "</div>"
      ],
      "text/plain": [
       "           idx  \\\n",
       "486757  486758   \n",
       "10034    10035   \n",
       "199138  199139   \n",
       "797021  797022   \n",
       "970326  970327   \n",
       "\n",
       "                                                                                                                                                                                        text  \n",
       "486757                                           \"Es ist eine Frechheit, als Letzte von der Maßnahme zu erfahren, welche die Schule erheblich betrifft\", sagte Schulsprecherin Doreen Kreil.  \n",
       "10034   Aber was ich zumindest erstaunlich finde, ist, dass diese Frau Leimbach-Knorr, die ja wirklich nur eine kleine Rolle ist, so bei den Kindern bei den Jugendlichen eingeschlagen hat.  \n",
       "199138                                                                                         Dass sich Versicherungsvertreter und Richter auf die Detektiv-Aussagen stützen, sei stossend.  \n",
       "797021           Seit einigen Tagen gab es das Gerücht, jetzt ist es amtlich: Viktoria Kelsterbach wird seine Erste Mannschaft am Ende der Saison aus der Fußball-Verbandsliga zurückziehen.  \n",
       "970326                             \"Wir werden sicherlich keinen Ausflug nach Rückers machen, sondern alles daran setzen, Punkte mit in den Vogelsberg zu bringen\", so Glitsch abschließend.  "
      ]
     },
     "execution_count": 15,
     "metadata": {},
     "output_type": "execute_result"
    }
   ],
   "source": [
    "df_de = pd.read_csv(de_sents, sep='\\t', header=None, quoting=csv.QUOTE_NONE)\n",
    "df_de.columns = ['idx', 'text']\n",
    "print(len(df_de))\n",
    "df_de.sample(5)\n"
   ]
  },
  {
   "cell_type": "code",
   "execution_count": 16,
   "metadata": {},
   "outputs": [
    {
     "name": "stdout",
     "output_type": "stream",
     "text": [
      "1000000\n"
     ]
    },
    {
     "data": {
      "text/html": [
       "<div>\n",
       "<style scoped>\n",
       "    .dataframe tbody tr th:only-of-type {\n",
       "        vertical-align: middle;\n",
       "    }\n",
       "\n",
       "    .dataframe tbody tr th {\n",
       "        vertical-align: top;\n",
       "    }\n",
       "\n",
       "    .dataframe thead th {\n",
       "        text-align: right;\n",
       "    }\n",
       "</style>\n",
       "<table border=\"1\" class=\"dataframe\">\n",
       "  <thead>\n",
       "    <tr style=\"text-align: right;\">\n",
       "      <th></th>\n",
       "      <th>idx</th>\n",
       "      <th>text</th>\n",
       "    </tr>\n",
       "  </thead>\n",
       "  <tbody>\n",
       "    <tr>\n",
       "      <th>536448</th>\n",
       "      <td>536449</td>\n",
       "      <td>“Of course we would like to have some security cameras, extra lighting, but that’s out of our budget.</td>\n",
       "    </tr>\n",
       "    <tr>\n",
       "      <th>458982</th>\n",
       "      <td>458983</td>\n",
       "      <td>Kylie Jenner lookalike Demi was first propelled into the spotlight when she was linked to the reality star's ex, rapper Tyga, after they split.</td>\n",
       "    </tr>\n",
       "    <tr>\n",
       "      <th>568070</th>\n",
       "      <td>568071</td>\n",
       "      <td>Part of the venue's concept was drawing the national teams to Kansas City on a more regular basis.</td>\n",
       "    </tr>\n",
       "    <tr>\n",
       "      <th>148599</th>\n",
       "      <td>148600</td>\n",
       "      <td>Cde Khaya Moyo described the venue as significant because Manicaland sent many sons and daughters of the soil across the border into Mozambique to join the liberation struggle.</td>\n",
       "    </tr>\n",
       "    <tr>\n",
       "      <th>615475</th>\n",
       "      <td>615476</td>\n",
       "      <td>Sending you deep gratitude and support from Swarthmore.</td>\n",
       "    </tr>\n",
       "  </tbody>\n",
       "</table>\n",
       "</div>"
      ],
      "text/plain": [
       "           idx  \\\n",
       "536448  536449   \n",
       "458982  458983   \n",
       "568070  568071   \n",
       "148599  148600   \n",
       "615475  615476   \n",
       "\n",
       "                                                                                                                                                                                    text  \n",
       "536448                                                                             “Of course we would like to have some security cameras, extra lighting, but that’s out of our budget.  \n",
       "458982                                   Kylie Jenner lookalike Demi was first propelled into the spotlight when she was linked to the reality star's ex, rapper Tyga, after they split.  \n",
       "568070                                                                                Part of the venue's concept was drawing the national teams to Kansas City on a more regular basis.  \n",
       "148599  Cde Khaya Moyo described the venue as significant because Manicaland sent many sons and daughters of the soil across the border into Mozambique to join the liberation struggle.  \n",
       "615475                                                                                                                           Sending you deep gratitude and support from Swarthmore.  "
      ]
     },
     "execution_count": 16,
     "metadata": {},
     "output_type": "execute_result"
    }
   ],
   "source": [
    "df_en = pd.read_csv(en_sents, sep='\\t', header=None, quoting=csv.QUOTE_NONE)\n",
    "df_en.columns = ['idx', 'text']\n",
    "print(len(df_en))\n",
    "df_en.sample(5)\n",
    "\n"
   ]
  },
  {
   "cell_type": "code",
   "execution_count": 17,
   "metadata": {},
   "outputs": [],
   "source": [
    "\n",
    "cnt_de = Counter()\n",
    "# for text in tqdm(df_de.text):\n",
    "for text in df_de.text:\n",
    "    cnt_de.update(tokenizer.encode(text))\n",
    "\n",
    "cnt_en = Counter()\n",
    "# for text in tqdm(df_en.text):\n",
    "for text in df_en.text:\n",
    "    cnt_en.update(tokenizer.encode(text))\n",
    "\n"
   ]
  },
  {
   "cell_type": "code",
   "execution_count": 18,
   "metadata": {},
   "outputs": [
    {
     "name": "stdout",
     "output_type": "stream",
     "text": [
      "67044 0.2680687724910036\n",
      "73890 0.29544182327069174\n",
      "53213 0.7937026430403914\n"
     ]
    }
   ],
   "source": [
    "\n",
    "print(len(cnt_de), len(cnt_de)/tokenizer.vocab_size)\n",
    "print(len(cnt_en), len(cnt_en)/tokenizer.vocab_size)\n",
    "common = len(set(cnt_de.keys()).intersection(set(cnt_en.keys())))\n",
    "print(common, common / len(cnt_de))\n",
    "\n"
   ]
  },
  {
   "cell_type": "code",
   "execution_count": 19,
   "metadata": {},
   "outputs": [
    {
     "name": "stdout",
     "output_type": "stream",
     "text": [
      "de\n",
      "10000 0.9596382358959944\n",
      "20000 0.988122922424769\n",
      "30000 0.9953906308584815\n",
      "en\n",
      "10000 0.9481541225982594\n",
      "20000 0.9812459830182233\n",
      "30000 0.9920559411977609\n"
     ]
    }
   ],
   "source": [
    "\n",
    "\n",
    "print('de')\n",
    "for top in 10_000, 20_000, 30_000:\n",
    "    print(top, sum(v for k, v in cnt_de.most_common(top)) / sum(cnt_de.values()))\n",
    "print('en')\n",
    "for top in 10_000, 20_000, 30_000:\n",
    "    print(top, sum(v for k, v in cnt_en.most_common(top)) / sum(cnt_en.values()))\n",
    "\n"
   ]
  },
  {
   "cell_type": "code",
   "execution_count": 20,
   "metadata": {},
   "outputs": [],
   "source": [
    "old_voc = tokenizer.get_vocab()\n",
    "old_inv_voc = {v: k for k, v in old_voc.items()}"
   ]
  },
  {
   "cell_type": "code",
   "execution_count": 21,
   "metadata": {},
   "outputs": [
    {
     "name": "stdout",
     "output_type": "stream",
     "text": [
      "['▁', '</s>', '.', ',', 'en', '▁der', '▁die', 's', '▁und', 't', 'e', '-', '▁in', 'n', '▁den', 'er', '▁zu', '▁mit', '▁das', '▁auf', '▁ist', '▁von', '▁ein', '▁im', '▁sich', '▁für', '▁Die', '▁nicht', 'te', '▁eine', '▁dem', '▁des', '▁es', '▁an', ':', '▁er', 'auch', 'ten', '▁aus', '▁bei']\n",
      "['▁', '▁the', '</s>', '.', ',', 's', '▁to', '▁and', '▁of', 'a', '▁in', 'ed', '▁is', '▁for', '’', '▁that', 'ing', '-', '▁on', '▁The', '▁with', '▁was', 'y', '▁at', '▁be', '▁it', '▁“', 'd', 'ly', '▁as', 'e', \"'\", '▁are', '▁I', '▁have', '▁from', '▁by', '▁said', '▁will', '▁has']\n"
     ]
    }
   ],
   "source": [
    "\n",
    "\n",
    "print(tokenizer.convert_ids_to_tokens([k for k, v in cnt_de.most_common(40)]))\n",
    "print(tokenizer.convert_ids_to_tokens([k for k, v in cnt_en.most_common(40)]))\n",
    "\n"
   ]
  },
  {
   "cell_type": "code",
   "execution_count": 22,
   "metadata": {},
   "outputs": [
    {
     "name": "stdout",
     "output_type": "stream",
     "text": [
      "35596\n"
     ]
    }
   ],
   "source": [
    "\n",
    "\n",
    "new_tokens = set(range(1000))\n",
    "for i, (k, v) in enumerate(cnt_en.most_common(10_000)):\n",
    "    if k not in new_tokens:\n",
    "        new_tokens.add(k)\n",
    "for i, (k, v) in enumerate(cnt_de.most_common(30_000)):\n",
    "    if len(new_tokens) == 39_900:\n",
    "        print(i, 'DE tokens are included')\n",
    "        break\n",
    "    if k not in new_tokens:\n",
    "        new_tokens.add(k)\n",
    "\n",
    "for t in range(tokenizer.vocab_size - 100, tokenizer.vocab_size):\n",
    "    new_tokens.add(t)\n",
    "\n",
    "print(len(new_tokens))\n",
    "kept_ids = sorted(new_tokens)\n",
    "\n"
   ]
  },
  {
   "cell_type": "code",
   "execution_count": 23,
   "metadata": {},
   "outputs": [
    {
     "data": {
      "text/plain": [
       "0.14232706917233107"
      ]
     },
     "execution_count": 23,
     "metadata": {},
     "output_type": "execute_result"
    }
   ],
   "source": [
    "\n",
    "\n",
    "len(kept_ids) / tokenizer.vocab_size\n",
    "\n"
   ]
  },
  {
   "cell_type": "code",
   "execution_count": 24,
   "metadata": {},
   "outputs": [
    {
     "data": {
      "text/plain": [
       "Text(0, 0.5, 'old id of token')"
      ]
     },
     "execution_count": 24,
     "metadata": {},
     "output_type": "execute_result"
    },
    {
     "data": {
      "image/png": "[encoded data removed]",
      "text/plain": [
       "<Figure size 432x288 with 1 Axes>"
      ]
     },
     "metadata": {
      "needs_background": "light"
     },
     "output_type": "display_data"
    }
   ],
   "source": [
    "\n",
    "\n",
    "plt.plot(kept_ids)\n",
    "plt.xlabel('new id of token')\n",
    "plt.ylabel('old id of token')\n",
    "\n"
   ]
  },
  {
   "cell_type": "code",
   "execution_count": 25,
   "metadata": {},
   "outputs": [],
   "source": [
    "\n",
    "new_size = len(kept_ids)\n",
    "new_emb = torch.nn.Embedding(new_size, model.shared.embedding_dim)\n",
    "new_head = torch.nn.Linear(in_features=model.lm_head.in_features, out_features=new_size, bias=False)\n",
    "\n",
    "\n",
    "for new_id, old_id in enumerate(kept_ids):\n",
    "    new_emb.weight.data[new_id] = model.shared.weight.data[old_id]\n",
    "    new_head.weight.data[new_id] = model.lm_head.weight.data[old_id]\n",
    "\n",
    "\n",
    "\n",
    "model.shared.weight = new_emb.weight\n",
    "model.lm_head.weight = new_head.weight\n",
    "\n",
    "\n"
   ]
  },
  {
   "cell_type": "code",
   "execution_count": 26,
   "metadata": {},
   "outputs": [
    {
     "name": "stdout",
     "output_type": "stream",
     "text": [
      "252904704 0.4342447599016266\n"
     ]
    }
   ],
   "source": [
    "\n",
    "\n",
    "print(msize(model), msize(model) / original_size)\n",
    "\n"
   ]
  },
  {
   "cell_type": "code",
   "execution_count": 27,
   "metadata": {},
   "outputs": [
    {
     "name": "stdout",
     "output_type": "stream",
     "text": [
      "wget: /sapps/opt/spack/linux-ubuntu16.04-x86_64/gcc-7.4.0/anaconda3-2020.11-q5jxtdwawrttqetvc2734tjx7v55v55y/lib/libuuid.so.1: no version information available (required by wget)\n",
      "--2022-03-29 08:58:37--  https://raw.githubusercontent.com/google/sentencepiece/master/src/sentencepiece_model.proto\n",
      "Resolving raw.githubusercontent.com (raw.githubusercontent.com)... 185.199.111.133, 185.199.108.133, 185.199.110.133, ...\n",
      "Connecting to raw.githubusercontent.com (raw.githubusercontent.com)|185.199.111.133|:443... connected.\n",
      "HTTP request sent, awaiting response... 200 OK\n",
      "Length: 12872 (13K) [text/plain]\n",
      "Saving to: ‘sentencepiece_model.proto.1’\n",
      "\n",
      "sentencepiece_model 100%[===================>]  12.57K  --.-KB/s    in 0s      \n",
      "\n",
      "2022-03-29 08:58:38 (68.0 MB/s) - ‘sentencepiece_model.proto.1’ saved [12872/12872]\n",
      "\n"
     ]
    }
   ],
   "source": [
    "\n",
    "\n",
    "!wget https://raw.githubusercontent.com/google/sentencepiece/master/src/sentencepiece_model.proto\n",
    "\n"
   ]
  },
  {
   "cell_type": "code",
   "execution_count": 28,
   "metadata": {},
   "outputs": [],
   "source": [
    "\n",
    "\n",
    "!protoc --python_out=. sentencepiece_model.proto\n",
    "\n"
   ]
  },
  {
   "cell_type": "code",
   "execution_count": 29,
   "metadata": {},
   "outputs": [
    {
     "name": "stdout",
     "output_type": "stream",
     "text": [
      "the loaded model has pieces: 250100\n",
      "the new pieces: 35596\n",
      "35596\n"
     ]
    }
   ],
   "source": [
    "\n",
    "smp = tokenizer.sp_model.serialized_model_proto()\n",
    "m = spmp.ModelProto()\n",
    "m.ParseFromString(smp)\n",
    "\n",
    "print('the loaded model has pieces:', len(m.pieces))\n",
    "new_pieces = [m.pieces[idx] for idx in kept_ids]\n",
    "print('the new pieces:', len(new_pieces))\n",
    "\n",
    "# replace the content of the first 30K pieces\n",
    "for i, p in enumerate(new_pieces):\n",
    "    m.pieces[i].piece = p.piece\n",
    "    m.pieces[i].score = p.score\n",
    "    m.pieces[i].type = p.type\n",
    "\n",
    "# drop the remaining pieces\n",
    "n = len(new_pieces)\n",
    "for i in range(len(m.pieces) - n):\n",
    "    m.pieces.pop(len(m.pieces) - 1)\n",
    "\n",
    "print(len(m.pieces))\n",
    "with open(str(save_dir / 'new_sp.model'), 'wb') as f:\n",
    "    f.write(m.SerializeToString())"
   ]
  },
  {
   "cell_type": "code",
   "execution_count": 30,
   "metadata": {},
   "outputs": [
    {
     "data": {
      "text/plain": [
       "MT5Config {\n",
       "  \"_name_or_path\": \"cointegrated/det5-base\",\n",
       "  \"architectures\": [\n",
       "    \"MT5ForConditionalGeneration\"\n",
       "  ],\n",
       "  \"d_ff\": 2048,\n",
       "  \"d_kv\": 64,\n",
       "  \"d_model\": 768,\n",
       "  \"decoder_start_token_id\": 0,\n",
       "  \"dropout_rate\": 0.1,\n",
       "  \"eos_token_id\": 1,\n",
       "  \"feed_forward_proj\": \"gated-gelu\",\n",
       "  \"initializer_factor\": 1.0,\n",
       "  \"is_encoder_decoder\": true,\n",
       "  \"layer_norm_epsilon\": 1e-06,\n",
       "  \"model_type\": \"mt5\",\n",
       "  \"num_decoder_layers\": 12,\n",
       "  \"num_heads\": 12,\n",
       "  \"num_layers\": 12,\n",
       "  \"output_past\": true,\n",
       "  \"pad_token_id\": 0,\n",
       "  \"relative_attention_num_buckets\": 32,\n",
       "  \"tie_word_embeddings\": false,\n",
       "  \"tokenizer_class\": \"T5Tokenizer\",\n",
       "  \"transformers_version\": \"4.16.2\",\n",
       "  \"use_cache\": true,\n",
       "  \"vocab_size\": 35596\n",
       "}"
      ]
     },
     "execution_count": 30,
     "metadata": {},
     "output_type": "execute_result"
    }
   ],
   "source": [
    "new_tokenizer = MT5Tokenizer(str(save_dir / 'new_sp.model'), extra_ids=0)\n",
    "model.config.__dict__['vocab_size'] = new_size\n",
    "model.config.__dict__['_name_or_path'] = f'cointegrated/{save_model_name}'\n",
    "model.config\n",
    "\n"
   ]
  },
  {
   "cell_type": "code",
   "execution_count": 31,
   "metadata": {},
   "outputs": [],
   "source": [
    "new_tokenizer.save_pretrained(str(save_dir / f'{save_model_name}'))\n",
    "model.save_pretrained(str(save_dir / f'{save_model_name}'))\n"
   ]
  },
  {
   "cell_type": "code",
   "execution_count": 32,
   "metadata": {},
   "outputs": [
    {
     "name": "stdout",
     "output_type": "stream",
     "text": [
      "<pad> <extra_id_0> Park <extra_id_1> in den <extra_id_2> in den <extra_id_3> liegt <extra_id_4> in den <extra_id_5> neue <extra_id_6> in den <extra_id_7> neue <extra_id_8> in den <extra_id_9> neue Park <extra_id_10>\n",
      "<pad> <extra_id_0> Park <extra_id_1> in den <extra_id_2> in den <extra_id_3> liegt <extra_id_4> in den <extra_id_5> neue <extra_id_6> in den <extra_id_7> neuer <extra_id_8> in den <extra_id_9> neuer <extra_id_10> in\n",
      "<pad> <extra_id_0> Park <extra_id_1> in den <extra_id_2> in den <extra_id_3> liegt <extra_id_4> in den <extra_id_5> neue <extra_id_6> in den <extra_id_7> neue <extra_id_8> in den <extra_id_9> neue <extra_id_10> in\n"
     ]
    }
   ],
   "source": [
    "\n",
    "\n",
    "model = MT5ForConditionalGeneration.from_pretrained(str(save_dir / f'{save_model_name}'))\n",
    "tokenizer = MT5Tokenizer.from_pretrained(str(save_dir / f'{save_model_name}'))\n",
    "\n",
    "sanity_check(model, tokenizer)\n",
    "# note: this should resemble outputs from initial sanity check above!"
   ]
  },
  {
   "cell_type": "code",
   "execution_count": null,
   "metadata": {},
   "outputs": [],
   "source": []
  }
 ],
 "metadata": {
  "interpreter": {
   "hash": "8dd2d3f67064d70eee45e342fb416c04dbbfb848779438ebba9df28760532c24"
  },
  "kernelspec": {
   "display_name": "20min",
   "language": "python",
   "name": "20min"
  },
  "language_info": {
   "codemirror_mode": {
    "name": "ipython",
    "version": 3
   },
   "file_extension": ".py",
   "mimetype": "text/x-python",
   "name": "python",
   "nbconvert_exporter": "python",
   "pygments_lexer": "ipython3",
   "version": "3.8.5"
  }
 },
 "nbformat": 4,
 "nbformat_minor": 2
}
